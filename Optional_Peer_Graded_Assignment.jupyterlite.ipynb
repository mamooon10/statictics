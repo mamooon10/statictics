{
  "metadata": {
    "kernelspec": {
      "name": "python",
      "display_name": "Python (Pyodide)",
      "language": "python"
    },
    "language_info": {
      "codemirror_mode": {
        "name": "python",
        "version": 3
      },
      "file_extension": ".py",
      "mimetype": "text/x-python",
      "name": "python",
      "nbconvert_exporter": "python",
      "pygments_lexer": "ipython3",
      "version": "3.8"
    }
  },
  "nbformat_minor": 4,
  "nbformat": 4,
  "cells": [
    {
      "cell_type": "markdown",
      "source": "<p style=\"text-align:center\">\n    <a href=\"https://skills.network/?utm_medium=Exinfluencer&utm_source=Exinfluencer&utm_content=000026UJ&utm_term=10006555&utm_id=NA-SkillsNetwork-Channel-SkillsNetworkCoursesIBMDeveloperSkillsNetworkST0151ENSkillsNetwork20531532-2022-01-01\" target=\"_blank\">\n    <img src=\"https://cf-courses-data.s3.us.cloud-object-storage.appdomain.cloud/assets/logos/SN_web_lightmode.png\" width=\"200\" alt=\"Skills Network Logo\"  />\n    </a>\n</p>\n\n",
      "metadata": {}
    },
    {
      "cell_type": "markdown",
      "source": "#### Import the required libraries we need for the lab.\n",
      "metadata": {}
    },
    {
      "cell_type": "code",
      "source": "import piplite\nawait piplite.install(['numpy'],['pandas'])\nawait piplite.install(['seaborn'])",
      "metadata": {},
      "outputs": [],
      "execution_count": null
    },
    {
      "cell_type": "code",
      "source": "import pandas as pd\nimport pandas as pd\nimport seaborn as sns\nimport matplotlib.pyplot as pyplot\nimport scipy.stats\nimport statsmodels.api as sm\nfrom statsmodels.formula.api import ols",
      "metadata": {},
      "outputs": [],
      "execution_count": null
    },
    {
      "cell_type": "markdown",
      "source": "#### Read the dataset in the csv file from the URL\n",
      "metadata": {}
    },
    {
      "cell_type": "code",
      "source": "from js import fetch\nimport io\n\nURL = 'https://cf-courses-data.s3.us.cloud-object-storage.appdomain.cloud/IBMDeveloperSkillsNetwork-ST0151EN-SkillsNetwork/labs/boston_housing.csv'\nresp = await fetch(URL)\nboston_url = io.BytesIO((await resp.arrayBuffer()).to_py())",
      "metadata": {},
      "outputs": [],
      "execution_count": null
    },
    {
      "cell_type": "code",
      "source": "boston_df=pd.read_csv(boston_url)",
      "metadata": {},
      "outputs": [],
      "execution_count": null
    },
    {
      "cell_type": "markdown",
      "source": "#### Add your code below following the instructions given in the course to complete the peer graded assignment\n",
      "metadata": {}
    },
    {
      "cell_type": "code",
      "source": "import pandas as pd\nimport pandas as pd\nimport matplotlib.pyplot as pyplot\nimport scipy.stats\nimport statsmodels.api as sm\nfrom statsmodels.formula.api import ols\ncsv_path=\"boston.csv\"\ndf=pd.read_csv(csv_path)\nprint(df)\nprint(df['Data'].mean())\nprint(\"File mode is\")\nprint(df['Data'].mode())\nprint(\"File min is\")\nprint(df['Data'].min())\nprint(\"File max is\")\nprint(df['Data'].max())\nprint(\"File median is\")\nprint(df['Data'].median())\nprint(\"For Box Plot\")\nax = sns.boxplot(x='CRIM', y='PTRATION', data=df)\nplt.show\nprint(\"For Box Plot\")\nax = sns.boxplot(x='MEDV', y='AGE', data=df)\nplt.show()\nprint(\"Scatter PLot\")\nax = sns.scatterplot(x='NOX', y=' INDUS ', data=df)\nplt.show()\nprint(pyplot.hist(df['PTRATIO']))\nprint(\"Using T Test Normal Distribution\")\nax = sns.distplot(df['CHAS'], bins=20, kde=True, color='red', hist_kws={\"linewidth\": 15,'alpha':1})\nax.set(xlabel='Normal Distribution', ylabel='Frequency')\nprint(\"Anova and Test for equality of variance\")\ndf.loc[(df['AGE'] <= 40), 'age_group'] = '40 years and younger'\ndf.loc[(df['AGE'] > 40)&(df['age'] < 57), 'age_group'] = 'between 40 and 57 years'\ndf.loc[(df['AGE'] >= 57), 'age_group'] = '57 years and older'\nscipy.stats.levene(df[df['age_group'] == '40 years and younger']['beauty'], df[df['age_group'] == 'between 40 and 57 years']['beauty'], df[df['age_group'] == '57 years and older']['beauty'],  center='mean')\nprint(\"Correlation and Pearson Test \")\nax = sns.scatterplot(x=\"NOX\", y=\"INDUS\", data=df)\nscipy.stats.pearsonr(df['NOX'], df['INDUS'])\nprint(\"Regression analysis in place of correlation\")\nX = df['DIS']\ny = df['MEDV']\nX = sm.add_constant(X) \nmodel = sm.OLS(y, X).fit()\npredictions = model.predict(X)\nprint(model.summary())\n",
      "metadata": {
        "trusted": true
      },
      "outputs": [],
      "execution_count": null
    },
    {
      "cell_type": "code",
      "source": "",
      "metadata": {
        "trusted": true
      },
      "outputs": [],
      "execution_count": null
    }
  ]
}